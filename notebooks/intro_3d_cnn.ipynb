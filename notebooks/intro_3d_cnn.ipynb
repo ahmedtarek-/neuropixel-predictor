{
 "cells": [
  {
   "cell_type": "markdown",
   "id": "29cdd48e-34bf-466e-8be3-f690943295c9",
   "metadata": {},
   "source": [
    "# Intro to 3D CNNs\n",
    "A description and demo notebook to go through creating a 3D CNN and using it with dummy data"
   ]
  },
  {
   "cell_type": "markdown",
   "id": "e9a29411-4500-4799-8287-e11a0434a4a6",
   "metadata": {},
   "source": [
    "## 1. Setting up dummy data\n",
    "\n",
    "Before learning how to use the cores, let's create a dummy data images. This data will be similar to a batch of images.\n",
    "\n",
    "Throughout the notebook we will refer to the elements of this shape in the following manner:\n",
    "\n",
    "[1] is the number of channels (can be input, hidden, output)\n",
    "\n",
    "[144] is the height of image or feature maps\n",
    "\n",
    "[256] is the height of image or feature maps\n",
    "\n",
    "[32] is the batch size, which is not as relevant for understanding the material in this notebook."
   ]
  },
  {
   "cell_type": "code",
   "execution_count": 7,
   "id": "80fbd21f-f5d6-4967-be9d-00112297613b",
   "metadata": {},
   "outputs": [],
   "source": [
    "# To access to neuropixel_predictor\n",
    "import sys\n",
    "sys.path.append('../')\n",
    "\n",
    "# Essential Imports\n",
    "import torch\n",
    "\n",
    "\n",
    "images = torch.ones(32, 1, 144, 256)\n"
   ]
  },
  {
   "cell_type": "markdown",
   "id": "d6d38b27-e824-4d21-aafb-f5dfba941ae2",
   "metadata": {},
   "source": [
    "## 2. Using Stacked 3D Core"
   ]
  },
  {
   "cell_type": "code",
   "execution_count": 8,
   "id": "3f69f869-558b-491e-badd-c71f3600c8b8",
   "metadata": {},
   "outputs": [],
   "source": [
    "stacked3dcore_config = {\n",
    "    # core args\n",
    "    'input_channels': 1,\n",
    "    'input_kern': 9,\n",
    "    'hidden_kern': 7,\n",
    "    'hidden_channels': 64,\n",
    "    'layers': 4,\n",
    "    'stack': -1,\n",
    "    'pad_input': True\n",
    "}"
   ]
  },
  {
   "cell_type": "code",
   "execution_count": 9,
   "id": "172fcacf-3cba-4bac-b996-f4ca81c7558e",
   "metadata": {},
   "outputs": [
    {
     "ename": "ModuleNotFoundError",
     "evalue": "No module named 'neuralpredictors'",
     "output_type": "error",
     "traceback": [
      "\u001b[31m---------------------------------------------------------------------------\u001b[39m",
      "\u001b[31mModuleNotFoundError\u001b[39m                       Traceback (most recent call last)",
      "\u001b[36mCell\u001b[39m\u001b[36m \u001b[39m\u001b[32mIn[9]\u001b[39m\u001b[32m, line 1\u001b[39m\n\u001b[32m----> \u001b[39m\u001b[32m1\u001b[39m \u001b[38;5;28;01mfrom\u001b[39;00m\u001b[38;5;250m \u001b[39m\u001b[34;01mneuropixel_predictor\u001b[39;00m\u001b[34;01m.\u001b[39;00m\u001b[34;01mlayers\u001b[39;00m\u001b[34;01m.\u001b[39;00m\u001b[34;01mcores\u001b[39;00m\u001b[38;5;250m \u001b[39m\u001b[38;5;28;01mimport\u001b[39;00m Basic3dCore \n\u001b[32m      3\u001b[39m stacked3d_core = Basic3dCore(**stacked3dcore_config)\n\u001b[32m      4\u001b[39m stacked3dcore_out = stacked3d_core(images)\n",
      "\u001b[36mFile \u001b[39m\u001b[32m~/Documents/Repos/neuropixel-predictor/notebooks/../neuropixel_predictor/layers/cores/__init__.py:13\u001b[39m\n\u001b[32m      1\u001b[39m \u001b[33;03m\"\"\"\u001b[39;00m\n\u001b[32m      2\u001b[39m \u001b[33;03mFor most of our neural prediction models, we use a core and readout architecture.\u001b[39;00m\n\u001b[32m      3\u001b[39m \u001b[33;03mIn this module, all the cores can be found.\u001b[39;00m\n\u001b[32m   (...)\u001b[39m\u001b[32m     10\u001b[39m \u001b[33;03mAll core classes must have a `regularizer` and a `forward` method.\u001b[39;00m\n\u001b[32m     11\u001b[39m \u001b[33;03m\"\"\"\u001b[39;00m\n\u001b[32m---> \u001b[39m\u001b[32m13\u001b[39m \u001b[38;5;28;01mfrom\u001b[39;00m\u001b[38;5;250m \u001b[39m\u001b[34;01m.\u001b[39;00m\u001b[34;01mconv3d\u001b[39;00m\u001b[38;5;250m \u001b[39m\u001b[38;5;28;01mimport\u001b[39;00m (\n\u001b[32m     14\u001b[39m     Basic3dCore\n\u001b[32m     15\u001b[39m )\n",
      "\u001b[36mFile \u001b[39m\u001b[32m~/Documents/Repos/neuropixel-predictor/notebooks/../neuropixel_predictor/layers/cores/conv3d.py:8\u001b[39m\n\u001b[32m      5\u001b[39m \u001b[38;5;28;01mimport\u001b[39;00m\u001b[38;5;250m \u001b[39m\u001b[34;01mtorch\u001b[39;00m\n\u001b[32m      6\u001b[39m \u001b[38;5;28;01mfrom\u001b[39;00m\u001b[38;5;250m \u001b[39m\u001b[34;01mtorch\u001b[39;00m\u001b[38;5;250m \u001b[39m\u001b[38;5;28;01mimport\u001b[39;00m nn\n\u001b[32m----> \u001b[39m\u001b[32m8\u001b[39m \u001b[38;5;28;01mfrom\u001b[39;00m\u001b[38;5;250m \u001b[39m\u001b[34;01mneuralpredictors\u001b[39;00m\u001b[38;5;250m \u001b[39m\u001b[38;5;28;01mimport\u001b[39;00m regularizers\n\u001b[32m      9\u001b[39m \u001b[38;5;28;01mfrom\u001b[39;00m\u001b[38;5;250m \u001b[39m\u001b[34;01mneuralpredictors\u001b[39;00m\u001b[34;01m.\u001b[39;00m\u001b[34;01mlayers\u001b[39;00m\u001b[34;01m.\u001b[39;00m\u001b[34;01mactivations\u001b[39;00m\u001b[38;5;250m \u001b[39m\u001b[38;5;28;01mimport\u001b[39;00m AdaptiveELU\n\u001b[32m     10\u001b[39m \u001b[38;5;28;01mfrom\u001b[39;00m\u001b[38;5;250m \u001b[39m\u001b[34;01mneuralpredictors\u001b[39;00m\u001b[34;01m.\u001b[39;00m\u001b[34;01mutils\u001b[39;00m\u001b[38;5;250m \u001b[39m\u001b[38;5;28;01mimport\u001b[39;00m check_hyperparam_for_layers\n",
      "\u001b[31mModuleNotFoundError\u001b[39m: No module named 'neuralpredictors'"
     ]
    }
   ],
   "source": [
    "from neuropixel_predictor.layers.cores import Basic3dCore \n",
    "\n",
    "stacked3d_core = Basic3dCore(**stacked3dcore_config)\n",
    "stacked3dcore_out = stacked3d_core(images)\n",
    "print(stacked3dcore_out.shape)"
   ]
  },
  {
   "cell_type": "code",
   "execution_count": null,
   "id": "a2c5d3b8-9771-428a-93c9-bb0f0b3232e5",
   "metadata": {},
   "outputs": [],
   "source": []
  }
 ],
 "metadata": {
  "kernelspec": {
   "display_name": "Python 3 (ipykernel)",
   "language": "python",
   "name": "python3"
  },
  "language_info": {
   "codemirror_mode": {
    "name": "ipython",
    "version": 3
   },
   "file_extension": ".py",
   "mimetype": "text/x-python",
   "name": "python",
   "nbconvert_exporter": "python",
   "pygments_lexer": "ipython3",
   "version": "3.13.5"
  }
 },
 "nbformat": 4,
 "nbformat_minor": 5
}

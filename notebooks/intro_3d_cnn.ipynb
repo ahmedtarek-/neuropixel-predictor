{
 "cells": [
  {
   "cell_type": "markdown",
   "id": "29cdd48e-34bf-466e-8be3-f690943295c9",
   "metadata": {},
   "source": [
    "# Intro to 3D CNNs\n",
    "A description and demo notebook to go through creating a 3D CNN and using it with dummy data"
   ]
  },
  {
   "cell_type": "markdown",
   "id": "e9a29411-4500-4799-8287-e11a0434a4a6",
   "metadata": {},
   "source": [
    "## 1. Setting up dummy data\n",
    "\n",
    "Before learning how to use the cores, let's create a dummy data images. This data will be similar to a batch of images.\n",
    "\n",
    "Throughout the notebook we will refer to the elements of this shape in the following manner:\n",
    "\n",
    "[1] is the number of channels (can be input, hidden, output)\n",
    "\n",
    "[50] is the number of frames representing time\n",
    "\n",
    "[144] is the height of image or feature maps\n",
    "\n",
    "[256] is the height of image or feature maps\n",
    "\n",
    "[32] is the batch size, which is not as relevant for understanding the material in this notebook."
   ]
  },
  {
   "cell_type": "code",
   "execution_count": 2,
   "id": "a1b7b107-9e16-460f-9093-4e841c16b5fd",
   "metadata": {},
   "outputs": [],
   "source": [
    "# To access to neuropixel_predictor\n",
    "import sys\n",
    "sys.path.append('../')\n",
    "\n",
    "# Basic imports\n",
    "import warnings\n",
    "import random\n",
    "\n",
    "# Essential imports\n",
    "import numpy as np\n",
    "import torch\n",
    "\n",
    "\n",
    "images = torch.ones(32, 1, 10, 144, 256)"
   ]
  },
  {
   "cell_type": "code",
   "execution_count": 3,
   "id": "a6b183a9-7798-4df9-a405-529327ff7eda",
   "metadata": {},
   "outputs": [],
   "source": [
    "warnings.filterwarnings(\"ignore\", category=UserWarning)\n",
    "device = \"cuda\" if torch.cuda.is_available() else \"cpu\"\n",
    "random_seed = 42"
   ]
  },
  {
   "cell_type": "markdown",
   "id": "d6d38b27-e824-4d21-aafb-f5dfba941ae2",
   "metadata": {},
   "source": [
    "## 2. Using Stacked 3D Core"
   ]
  },
  {
   "cell_type": "code",
   "execution_count": 4,
   "id": "3f69f869-558b-491e-badd-c71f3600c8b8",
   "metadata": {},
   "outputs": [],
   "source": [
    "stacked3dcore_config = {\n",
    "    # core args\n",
    "    'input_channels': 1,\n",
    "    'input_kernel': 7,\n",
    "    'hidden_kernel': 5,\n",
    "    'hidden_channels': 64,\n",
    "    'layers': 2\n",
    "}"
   ]
  },
  {
   "cell_type": "code",
   "execution_count": 5,
   "id": "172fcacf-3cba-4bac-b996-f4ca81c7558e",
   "metadata": {},
   "outputs": [
    {
     "data": {
      "text/plain": [
       "Basic3dCore(\n",
       "  (_input_weight_regularizer): LaplaceL2norm(\n",
       "    (laplace): Laplace()\n",
       "  )\n",
       "  (temporal_regularizer): DepthLaplaceL21d(\n",
       "    (laplace): Laplace1d()\n",
       "  )\n",
       "  (features): Sequential(\n",
       "    (layer0): Sequential(\n",
       "      (conv): Conv3d(1, 64, kernel_size=(7, 7, 7), stride=(1, 1, 1))\n",
       "      (norm): BatchNorm3d(64, eps=1e-05, momentum=0.01, affine=True, track_running_stats=True)\n",
       "      (nonlin): ELU(alpha=1.0)\n",
       "    )\n",
       "    (layer1): Sequential(\n",
       "      (conv_1): Conv3d(64, 64, kernel_size=(5, 5, 5), stride=(1, 1, 1))\n",
       "      (norm): BatchNorm3d(64, eps=1e-05, momentum=0.01, affine=True, track_running_stats=True)\n",
       "      (nonlin): ELU(alpha=1.0)\n",
       "    )\n",
       "  )\n",
       ") [Basic3dCore regularizers: gamma_input_spatial = 0|gamma_input_temporal = 0]"
      ]
     },
     "execution_count": 5,
     "metadata": {},
     "output_type": "execute_result"
    }
   ],
   "source": [
    "from neuropixel_predictor.layers.cores import Basic3dCore \n",
    "\n",
    "stacked3d_core = Basic3dCore(**stacked3dcore_config)\n",
    "stacked3d_core\n",
    "# stacked3dcore_out = stacked3d_core(images)\n",
    "# print(stacked3dcore_out.shape)"
   ]
  },
  {
   "cell_type": "markdown",
   "id": "49f7006b-f744-465a-ae09-978389d410e4",
   "metadata": {},
   "source": [
    "## 3. Using Readout to attach Factorized Readout"
   ]
  },
  {
   "cell_type": "code",
   "execution_count": 6,
   "id": "361bae0f-a844-4a74-9141-0c569ddea6e3",
   "metadata": {},
   "outputs": [],
   "source": [
    "from neuropixel_predictor.layers.readouts import Gaussian3d, MultiReadoutBase"
   ]
  },
  {
   "cell_type": "code",
   "execution_count": 7,
   "id": "413288ab-6d36-4295-a747-0f568f986b27",
   "metadata": {},
   "outputs": [],
   "source": [
    "in_shapes_dict = {\n",
    "    '21067-10-18': torch.Size([64, 144, 256]),\n",
    "    '22846-10-16': torch.Size([64, 144, 256])\n",
    "}\n",
    "\n",
    "n_neurons_dict = {'21067-10-18': 8372, '22846-10-16': 7344}"
   ]
  },
  {
   "cell_type": "code",
   "execution_count": 9,
   "id": "28c57925-93ba-4944-be75-34b2081a20cb",
   "metadata": {},
   "outputs": [],
   "source": [
    "gaussian_readout = MultiReadoutBase(\n",
    "    in_shape_dict=in_shapes_dict,\n",
    "    n_neurons_dict=n_neurons_dict,\n",
    "    base_readout=Gaussian3d,\n",
    "    bias=True,\n",
    ")"
   ]
  },
  {
   "cell_type": "markdown",
   "id": "1139db40-afce-4ba4-93a2-b343ce16b7a5",
   "metadata": {},
   "source": [
    "## 4. Invoke core and readout"
   ]
  },
  {
   "cell_type": "code",
   "execution_count": null,
   "id": "448c7204-bc0b-449f-abfe-c0e83cd3344e",
   "metadata": {},
   "outputs": [],
   "source": [
    "core_output = core(example_batch.images)\n",
    "readout_output_sample = factorized_readout(core_output, data_key=\"21067-10-18\")"
   ]
  }
 ],
 "metadata": {
  "kernelspec": {
   "display_name": "Python 3 (ipykernel)",
   "language": "python",
   "name": "python3"
  },
  "language_info": {
   "codemirror_mode": {
    "name": "ipython",
    "version": 3
   },
   "file_extension": ".py",
   "mimetype": "text/x-python",
   "name": "python",
   "nbconvert_exporter": "python",
   "pygments_lexer": "ipython3",
   "version": "3.13.5"
  }
 },
 "nbformat": 4,
 "nbformat_minor": 5
}

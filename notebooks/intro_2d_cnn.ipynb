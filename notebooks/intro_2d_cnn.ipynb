{
 "cells": [
  {
   "cell_type": "markdown",
   "id": "6b889cce-9a9c-4f0e-ae7a-6fc78d4de234",
   "metadata": {},
   "source": [
    "# Intro to 2D CNNs\n",
    "A description and demo notebook to go through creating a 2D CNN and using it with dummy data"
   ]
  },
  {
   "cell_type": "markdown",
   "id": "2da4050b-51cb-4c76-bf6e-f75751e9a022",
   "metadata": {},
   "source": [
    "## 1. Setting up dummy data\n",
    "\n",
    "Before learning how to use the cores, let's create a dummy data images. This data will be similar to a batch of images.\n",
    "\n",
    "Throughout the notebook we will refer to the elements of this shape in the following manner:\n",
    "\n",
    "[1] is the number of channels (can be input, hidden, output)\n",
    "\n",
    "[144] is the height of image or feature maps\n",
    "\n",
    "[256] is the height of image or feature maps\n",
    "\n",
    "[32] is the batch size, which is not as relevant for understanding the material in this notebook."
   ]
  },
  {
   "cell_type": "code",
   "execution_count": 1,
   "id": "077285e7-7c00-45dd-88ab-211227cc70b6",
   "metadata": {},
   "outputs": [],
   "source": [
    "# To access to neuropixel_predictor\n",
    "import sys\n",
    "sys.path.append('../')\n",
    "\n",
    "# Basic imports\n",
    "import warnings\n",
    "import random\n",
    "\n",
    "# Essential imports\n",
    "import numpy as np\n",
    "import torch"
   ]
  },
  {
   "cell_type": "code",
   "execution_count": 2,
   "id": "b28f1868-fe4e-4a83-84ce-54cfeebf8e45",
   "metadata": {},
   "outputs": [],
   "source": [
    "warnings.filterwarnings(\"ignore\", category=UserWarning)\n",
    "device = \"cuda\" if torch.cuda.is_available() else \"cpu\"\n",
    "random_seed = 42"
   ]
  },
  {
   "cell_type": "markdown",
   "id": "be5678f9-420f-4ba6-96e9-de59d90cba89",
   "metadata": {},
   "source": [
    "## 2. Setting Up the data"
   ]
  },
  {
   "cell_type": "code",
   "execution_count": 3,
   "id": "bf6d0b25-61b0-4717-a438-3ab0d31b0829",
   "metadata": {},
   "outputs": [],
   "source": [
    "images = torch.ones(32, 1, 144, 256)"
   ]
  },
  {
   "cell_type": "markdown",
   "id": "ad610cc7-9b36-4ca0-98ce-304b8ffaa9e2",
   "metadata": {},
   "source": [
    "## 3. Using Stacked 2D Core"
   ]
  },
  {
   "cell_type": "code",
   "execution_count": 29,
   "id": "b2d68595-ff46-4a81-934f-518654dc0aaf",
   "metadata": {},
   "outputs": [],
   "source": [
    "stacked2dcore_config = {\n",
    "    # core args\n",
    "    # 'input_channels': 1,\n",
    "    'input_kern': 7,\n",
    "    'hidden_kern': 5,\n",
    "    'hidden_channels': 64,\n",
    "    'layers': 3,\n",
    "    'stack': -1,\n",
    "    'pad_input': True,\n",
    "    'gamma_input': 6.3831\n",
    "}"
   ]
  },
  {
   "cell_type": "code",
   "execution_count": 5,
   "id": "da978a4b-7f97-4bea-a61d-c11c7a11a7ba",
   "metadata": {},
   "outputs": [
    {
     "data": {
      "text/plain": [
       "Stacked2dCore(\n",
       "  (_input_weights_regularizer): LaplaceL2(\n",
       "    (laplace): Laplace()\n",
       "  )\n",
       "  (features): Sequential(\n",
       "    (layer0): Sequential(\n",
       "      (conv): Conv2d(1, 64, kernel_size=(7, 7), stride=(1, 1), padding=(3, 3), bias=False)\n",
       "      (norm): BatchNorm2d(64, eps=1e-05, momentum=0.1, affine=True, track_running_stats=True)\n",
       "      (nonlin): AdaptiveELU()\n",
       "    )\n",
       "    (layer1): Sequential(\n",
       "      (conv): Conv2d(64, 64, kernel_size=(5, 5), stride=(1, 1), padding=(2, 2))\n",
       "      (norm): BatchNorm2d(64, eps=1e-05, momentum=0.1, affine=True, track_running_stats=True)\n",
       "      (nonlin): AdaptiveELU()\n",
       "    )\n",
       "    (layer2): Sequential(\n",
       "      (conv): Conv2d(64, 64, kernel_size=(5, 5), stride=(1, 1), padding=(2, 2))\n",
       "      (norm): BatchNorm2d(64, eps=1e-05, momentum=0.1, affine=True, track_running_stats=True)\n",
       "      (nonlin): AdaptiveELU()\n",
       "    )\n",
       "  )\n",
       ") [Stacked2dCore regularizers: gamma_hidden = 0|gamma_input = 6.3831|skip = 0]"
      ]
     },
     "execution_count": 5,
     "metadata": {},
     "output_type": "execute_result"
    }
   ],
   "source": [
    "# from neuralpredictors.layers.cores import Stacked2dCore\n",
    "# from neuralpredictors.utils import get_module_output\n",
    "\n",
    "# core = Stacked2dCore(input_channels=1,\n",
    "#                      hidden_channels=64,\n",
    "#                      input_kern=9,\n",
    "#                      hidden_kern=7)\n",
    "\n",
    "# in_shape_dict = {k: get_module_output(core, in_shape)[1:] for k, in_shape in in_shapes_dict.items()}\n",
    "\n",
    "\n",
    "\n",
    "from neuropixel_predictor.layers.cores import Stacked2dCore \n",
    "\n",
    "stacked2d_core = Stacked2dCore(**stacked2dcore_config)\n",
    "stacked2d_core\n",
    "\n",
    "# stacked2dcore_out = stacked2d_core(images)\n",
    "# print(stacked2dcore_out.shape)"
   ]
  },
  {
   "cell_type": "code",
   "execution_count": 6,
   "id": "ee9f0526-0ebe-4861-bc70-1d14b39edec6",
   "metadata": {},
   "outputs": [
    {
     "name": "stdout",
     "output_type": "stream",
     "text": [
      "torch.Size([32, 64, 144, 256])\n"
     ]
    }
   ],
   "source": [
    "# Trying out on images\n",
    "stacked2dcore_out = stacked2d_core(images)\n",
    "print(stacked2dcore_out.shape)"
   ]
  },
  {
   "cell_type": "markdown",
   "id": "0a93e3ac-1401-41ed-9eba-27b89f8f91d7",
   "metadata": {},
   "source": [
    "## 3. Using Readout to attach Factorized Readout"
   ]
  },
  {
   "cell_type": "code",
   "execution_count": 7,
   "id": "14a60bd1-b277-4d17-95be-c8b72bd7710b",
   "metadata": {},
   "outputs": [],
   "source": [
    "from neuropixel_predictor.layers.readouts import FullFactorized2d, MultiReadoutBase"
   ]
  },
  {
   "cell_type": "code",
   "execution_count": 8,
   "id": "854dc186-61d2-4c19-a4ad-69ff8e90706b",
   "metadata": {},
   "outputs": [],
   "source": [
    "in_shapes_dict = {\n",
    "    '21067-10-18': torch.Size([64, 144, 256]),\n",
    "    '22846-10-16': torch.Size([64, 144, 256])\n",
    "}\n",
    "\n",
    "n_neurons_dict = {'21067-10-18': 8372, '22846-10-16': 7344}"
   ]
  },
  {
   "cell_type": "code",
   "execution_count": 9,
   "id": "26114e78-06a1-48e2-aba3-1cc25129f6b7",
   "metadata": {},
   "outputs": [],
   "source": [
    "factorized_readout = MultiReadoutBase(\n",
    "    in_shape_dict=in_shapes_dict,\n",
    "    n_neurons_dict=n_neurons_dict,\n",
    "    base_readout=FullFactorized2d,\n",
    "    bias=True,\n",
    ")"
   ]
  },
  {
   "cell_type": "markdown",
   "id": "ebf10e4e-d1fe-4262-9dbb-ae9fa45927e5",
   "metadata": {},
   "source": [
    "## 4. Invoke core and readout (dummy data)"
   ]
  },
  {
   "cell_type": "code",
   "execution_count": 10,
   "id": "4c73f0a3-7a1e-446e-bbf6-53154a8aa6cb",
   "metadata": {},
   "outputs": [
    {
     "data": {
      "text/plain": [
       "tensor([[-0.0016,  0.0006,  0.0014,  ...,  0.0053, -0.0108, -0.0069],\n",
       "        [-0.0016,  0.0006,  0.0014,  ...,  0.0053, -0.0108, -0.0069],\n",
       "        [-0.0016,  0.0006,  0.0014,  ...,  0.0053, -0.0108, -0.0069],\n",
       "        ...,\n",
       "        [-0.0016,  0.0006,  0.0014,  ...,  0.0053, -0.0108, -0.0069],\n",
       "        [-0.0016,  0.0006,  0.0014,  ...,  0.0053, -0.0108, -0.0069],\n",
       "        [-0.0016,  0.0006,  0.0014,  ...,  0.0053, -0.0108, -0.0069]],\n",
       "       grad_fn=<AddBackward0>)"
      ]
     },
     "execution_count": 10,
     "metadata": {},
     "output_type": "execute_result"
    }
   ],
   "source": [
    "# Forward pass with core\n",
    "core_output = stacked2d_core(images)\n",
    "\n",
    "# Forward pass with readout\n",
    "readout_output_sample = factorized_readout(core_output, data_key=\"21067-10-18\")\n",
    "\n",
    "readout_output_sample"
   ]
  },
  {
   "cell_type": "markdown",
   "id": "1fc14eb7-c83c-4ad3-a8f3-4cdfe3942811",
   "metadata": {},
   "source": [
    "## 5. Testing with real data (test data)\n",
    "Utility functions from https://github.com/sinzlab/sensorium"
   ]
  },
  {
   "cell_type": "code",
   "execution_count": 11,
   "id": "88a9935b-2fad-417a-a273-8cb7f318a920",
   "metadata": {},
   "outputs": [],
   "source": [
    "%%capture \n",
    "!pip install git+https://github.com/sinzlab/sensorium.git"
   ]
  },
  {
   "cell_type": "markdown",
   "id": "74ffda84-6077-4dd5-b28c-feefe57816da",
   "metadata": {},
   "source": [
    "Defining some helper functions to extract the data"
   ]
  },
  {
   "cell_type": "code",
   "execution_count": 12,
   "id": "e5551a2c-7c15-4aee-80ed-59207a6bbdf1",
   "metadata": {},
   "outputs": [],
   "source": [
    "# The following are minimal adaptations of three utility functions found in nnfabrik that we need to initialise\n",
    "# the core and readouts later on.\n",
    "\n",
    "def get_data(dataset_fn, dataset_config):\n",
    "    \"\"\"\n",
    "    See https://github.com/sinzlab/nnfabrik/blob/5b6e7379cb5724a787cdd482ee987b8bc0dfacf3/nnfabrik/builder.py#L87\n",
    "    for the original implementation and documentation if you are interested.\n",
    "    \"\"\"\n",
    "    return dataset_fn(**dataset_config)\n",
    "\n",
    "def get_dims_for_loader_dict(dataloaders):\n",
    "    \"\"\"\n",
    "    See https://github.com/sinzlab/nnfabrik/blob/5b6e7379cb5724a787cdd482ee987b8bc0dfacf3/nnfabrik/utility/nn_helpers.py#L39\n",
    "    for the original implementation and docstring if you are interested.\n",
    "    \"\"\"\n",
    "    \n",
    "    def get_io_dims(data_loader):\n",
    "        items = next(iter(data_loader))\n",
    "        if hasattr(items, \"_asdict\"):  # if it's a named tuple\n",
    "            items = items._asdict()\n",
    "\n",
    "        if hasattr(items, \"items\"):  # if dict like\n",
    "            return {k: v.shape for k, v in items.items()}\n",
    "        else:\n",
    "            return (v.shape for v in items)\n",
    "\n",
    "    return {k: get_io_dims(v) for k, v in dataloaders.items()}\n",
    "\n",
    "\n",
    "def set_random_seed(seed: int, deterministic: bool = True):\n",
    "    \"\"\"\n",
    "    See https://github.com/sinzlab/nnfabrik/blob/5b6e7379cb5724a787cdd482ee987b8bc0dfacf3/nnfabrik/utility/nn_helpers.py#L53\n",
    "    for the original implementation and docstring if you are intereseted.\n",
    "    \"\"\"\n",
    "    random.seed(seed)\n",
    "    np.random.seed(seed)\n",
    "    if deterministic:\n",
    "        torch.backends.cudnn.benchmark = False\n",
    "        torch.backends.cudnn.deterministic = True\n",
    "    torch.manual_seed(seed)  # this sets both CPU and CUDA seeds for PyTorch"
   ]
  },
  {
   "cell_type": "markdown",
   "id": "253455a2-05cb-493e-984c-2808d2370c0a",
   "metadata": {},
   "source": [
    "Loading the data"
   ]
  },
  {
   "cell_type": "code",
   "execution_count": 17,
   "id": "6fc15252-076c-4863-8fa6-e1023043b7d1",
   "metadata": {},
   "outputs": [],
   "source": [
    "## Load the data: you can modify this if you have stored it in another location\n",
    "from sensorium.datasets import static_loaders\n",
    "\n",
    "DATA_PATH = '/Users/tarek/Documents/UNI/Lab Rotations/Kremkow/Data/Test/'\n",
    "\n",
    "filenames = [\n",
    "    DATA_PATH + 'static21067-10-18-GrayImageNet-94c6ff995dac583098847cfecd43e7b6.zip', \n",
    "    DATA_PATH + 'static22846-10-16-GrayImageNet-94c6ff995dac583098847cfecd43e7b6.zip'\n",
    "    ]\n",
    "\n",
    "dataset_config = {'paths': filenames,\n",
    "                 'normalize': True,\n",
    "                 'include_behavior': False,\n",
    "                 'include_eye_position': True,\n",
    "                 'batch_size': 32,\n",
    "                 'scale':1,\n",
    "                 'cuda': True if device == 'cuda' else False,\n",
    "                 }\n",
    "\n",
    "dataloaders = get_data(dataset_fn=static_loaders, dataset_config=dataset_config)"
   ]
  },
  {
   "cell_type": "markdown",
   "id": "76473501-e971-4c93-9dcb-32b9a8c705ff",
   "metadata": {},
   "source": [
    "Process the data step by step"
   ]
  },
  {
   "cell_type": "code",
   "execution_count": 32,
   "id": "19597b22-a9f4-426b-aab6-ee550b51cab4",
   "metadata": {},
   "outputs": [],
   "source": [
    "# We only need the train dataloaders to extract the session keys (could also use test or validation for this)\n",
    "train_dataloaders = dataloaders[\"train\"]\n",
    "\n",
    "# Obtain the named tuple fields from the first entry of the first dataloader in the dictionary\n",
    "example_batch = next(iter(list(train_dataloaders.values())[0]))\n",
    "in_name, out_name = (\n",
    "    list(example_batch.keys())[:2] if isinstance(example_batch, dict) else example_batch._fields[:2]\n",
    ")\n",
    "\n",
    "session_shape_dict = get_dims_for_loader_dict(train_dataloaders)\n",
    "input_channels = [v[in_name][1] for v in session_shape_dict.values()]\n",
    "\n",
    "core_input_channels = (\n",
    "    list(input_channels.values())[0]\n",
    "    if isinstance(input_channels, dict)\n",
    "    else input_channels[0]\n",
    ")"
   ]
  },
  {
   "cell_type": "markdown",
   "id": "e78ce402-f0f1-44a8-8b5e-3dd2e003bd4e",
   "metadata": {},
   "source": [
    "**Core: Setting up**"
   ]
  },
  {
   "cell_type": "code",
   "execution_count": 33,
   "id": "557086e7-7d39-47c1-b6a3-0d1d418fd69a",
   "metadata": {},
   "outputs": [
    {
     "data": {
      "text/plain": [
       "Stacked2dCore(\n",
       "  (_input_weights_regularizer): LaplaceL2(\n",
       "    (laplace): Laplace()\n",
       "  )\n",
       "  (features): Sequential(\n",
       "    (layer0): Sequential(\n",
       "      (conv): Conv2d(1, 64, kernel_size=(7, 7), stride=(1, 1), padding=(3, 3), bias=False)\n",
       "      (norm): BatchNorm2d(64, eps=1e-05, momentum=0.1, affine=True, track_running_stats=True)\n",
       "      (nonlin): AdaptiveELU()\n",
       "    )\n",
       "    (layer1): Sequential(\n",
       "      (conv): Conv2d(64, 64, kernel_size=(5, 5), stride=(1, 1), padding=(2, 2))\n",
       "      (norm): BatchNorm2d(64, eps=1e-05, momentum=0.1, affine=True, track_running_stats=True)\n",
       "      (nonlin): AdaptiveELU()\n",
       "    )\n",
       "    (layer2): Sequential(\n",
       "      (conv): Conv2d(64, 64, kernel_size=(5, 5), stride=(1, 1), padding=(2, 2))\n",
       "      (norm): BatchNorm2d(64, eps=1e-05, momentum=0.1, affine=True, track_running_stats=True)\n",
       "      (nonlin): AdaptiveELU()\n",
       "    )\n",
       "  )\n",
       ") [Stacked2dCore regularizers: gamma_hidden = 0|gamma_input = 6.3831|skip = 0]"
      ]
     },
     "execution_count": 33,
     "metadata": {},
     "output_type": "execute_result"
    }
   ],
   "source": [
    "set_random_seed(random_seed)\n",
    "core = Stacked2dCore(\n",
    "    input_channels=core_input_channels,\n",
    "    **stacked2dcore_config,\n",
    ")\n",
    "core"
   ]
  },
  {
   "cell_type": "markdown",
   "id": "035e401b-6a3b-42fe-85ad-d9c9e5654265",
   "metadata": {},
   "source": [
    "**Core: Example forward pass**"
   ]
  },
  {
   "cell_type": "code",
   "execution_count": null,
   "id": "58787eff-869a-44c6-9b9b-fff036dfbe24",
   "metadata": {},
   "outputs": [],
   "source": []
  }
 ],
 "metadata": {
  "kernelspec": {
   "display_name": "Python 3 (ipykernel)",
   "language": "python",
   "name": "python3"
  },
  "language_info": {
   "codemirror_mode": {
    "name": "ipython",
    "version": 3
   },
   "file_extension": ".py",
   "mimetype": "text/x-python",
   "name": "python",
   "nbconvert_exporter": "python",
   "pygments_lexer": "ipython3",
   "version": "3.13.5"
  }
 },
 "nbformat": 4,
 "nbformat_minor": 5
}

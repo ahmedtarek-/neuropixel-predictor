{
 "cells": [
  {
   "cell_type": "markdown",
   "id": "6b889cce-9a9c-4f0e-ae7a-6fc78d4de234",
   "metadata": {},
   "source": [
    "# Intro to 2D CNNs\n",
    "A description and demo notebook to go through creating a 2D CNN and using it with dummy data"
   ]
  },
  {
   "cell_type": "markdown",
   "id": "2da4050b-51cb-4c76-bf6e-f75751e9a022",
   "metadata": {},
   "source": [
    "## 1. Setting up dummy data\n",
    "\n",
    "Before learning how to use the cores, let's create a dummy data images. This data will be similar to a batch of images.\n",
    "\n",
    "Throughout the notebook we will refer to the elements of this shape in the following manner:\n",
    "\n",
    "[1] is the number of channels (can be input, hidden, output)\n",
    "\n",
    "[144] is the height of image or feature maps\n",
    "\n",
    "[256] is the height of image or feature maps\n",
    "\n",
    "[32] is the batch size, which is not as relevant for understanding the material in this notebook."
   ]
  },
  {
   "cell_type": "code",
   "execution_count": 1,
   "id": "077285e7-7c00-45dd-88ab-211227cc70b6",
   "metadata": {},
   "outputs": [],
   "source": [
    "# To access to neuropixel_predictor\n",
    "import sys\n",
    "sys.path.append('../')\n",
    "\n",
    "# Basic imports\n",
    "import warnings\n",
    "import random\n",
    "\n",
    "# Essential imports\n",
    "import numpy as np\n",
    "import torch"
   ]
  },
  {
   "cell_type": "code",
   "execution_count": 2,
   "id": "b28f1868-fe4e-4a83-84ce-54cfeebf8e45",
   "metadata": {},
   "outputs": [],
   "source": [
    "warnings.filterwarnings(\"ignore\", category=UserWarning)\n",
    "device = \"cuda\" if torch.cuda.is_available() else \"cpu\"\n",
    "random_seed = 42"
   ]
  },
  {
   "cell_type": "markdown",
   "id": "be5678f9-420f-4ba6-96e9-de59d90cba89",
   "metadata": {},
   "source": [
    "## 2. Setting Up the data"
   ]
  },
  {
   "cell_type": "code",
   "execution_count": 3,
   "id": "bf6d0b25-61b0-4717-a438-3ab0d31b0829",
   "metadata": {},
   "outputs": [],
   "source": [
    "images = torch.ones(32, 1, 144, 256)"
   ]
  },
  {
   "cell_type": "markdown",
   "id": "ad610cc7-9b36-4ca0-98ce-304b8ffaa9e2",
   "metadata": {},
   "source": [
    "## 3. Using Stacked 2D Core"
   ]
  },
  {
   "cell_type": "code",
   "execution_count": 4,
   "id": "b2d68595-ff46-4a81-934f-518654dc0aaf",
   "metadata": {},
   "outputs": [],
   "source": [
    "stacked2dcore_config = {\n",
    "    # core args\n",
    "    'input_channels': 1,\n",
    "    'input_kern': 7,\n",
    "    'hidden_kern': 5,\n",
    "    'hidden_channels': 64,\n",
    "    'layers': 3\n",
    "}"
   ]
  },
  {
   "cell_type": "code",
   "execution_count": 5,
   "id": "da978a4b-7f97-4bea-a61d-c11c7a11a7ba",
   "metadata": {},
   "outputs": [
    {
     "data": {
      "text/plain": [
       "Stacked2dCore(\n",
       "  (_input_weights_regularizer): LaplaceL2(\n",
       "    (laplace): Laplace()\n",
       "  )\n",
       "  (features): Sequential(\n",
       "    (layer0): Sequential(\n",
       "      (conv): Conv2d(1, 64, kernel_size=(7, 7), stride=(1, 1), padding=(3, 3), bias=False)\n",
       "      (norm): BatchNorm2d(64, eps=1e-05, momentum=0.1, affine=True, track_running_stats=True)\n",
       "      (nonlin): AdaptiveELU()\n",
       "    )\n",
       "    (layer1): Sequential(\n",
       "      (conv): Conv2d(64, 64, kernel_size=(5, 5), stride=(1, 1), padding=(2, 2))\n",
       "      (norm): BatchNorm2d(64, eps=1e-05, momentum=0.1, affine=True, track_running_stats=True)\n",
       "      (nonlin): AdaptiveELU()\n",
       "    )\n",
       "    (layer2): Sequential(\n",
       "      (conv): Conv2d(64, 64, kernel_size=(5, 5), stride=(1, 1), padding=(2, 2))\n",
       "      (norm): BatchNorm2d(64, eps=1e-05, momentum=0.1, affine=True, track_running_stats=True)\n",
       "      (nonlin): AdaptiveELU()\n",
       "    )\n",
       "  )\n",
       ") [Stacked2dCore regularizers: gamma_hidden = 0|gamma_input = 0.0|skip = 0]"
      ]
     },
     "execution_count": 5,
     "metadata": {},
     "output_type": "execute_result"
    }
   ],
   "source": [
    "# from neuralpredictors.layers.cores import Stacked2dCore\n",
    "# from neuralpredictors.utils import get_module_output\n",
    "\n",
    "# core = Stacked2dCore(input_channels=1,\n",
    "#                      hidden_channels=64,\n",
    "#                      input_kern=9,\n",
    "#                      hidden_kern=7)\n",
    "\n",
    "# in_shape_dict = {k: get_module_output(core, in_shape)[1:] for k, in_shape in in_shapes_dict.items()}\n",
    "\n",
    "\n",
    "\n",
    "from neuropixel_predictor.layers.cores import Stacked2dCore \n",
    "\n",
    "stacked2d_core = Stacked2dCore(**stacked2dcore_config)\n",
    "stacked2d_core\n",
    "\n",
    "# stacked2dcore_out = stacked2d_core(images)\n",
    "# print(stacked2dcore_out.shape)"
   ]
  },
  {
   "cell_type": "markdown",
   "id": "0a93e3ac-1401-41ed-9eba-27b89f8f91d7",
   "metadata": {},
   "source": [
    "## 3. Using Readout to attach Factorized Readout"
   ]
  },
  {
   "cell_type": "code",
   "execution_count": 6,
   "id": "14a60bd1-b277-4d17-95be-c8b72bd7710b",
   "metadata": {},
   "outputs": [],
   "source": [
    "from neuropixel_predictor.layers.readouts import FullFactorized2d, MultiReadoutBase"
   ]
  },
  {
   "cell_type": "code",
   "execution_count": 7,
   "id": "854dc186-61d2-4c19-a4ad-69ff8e90706b",
   "metadata": {},
   "outputs": [],
   "source": [
    "in_shapes_dict = {\n",
    "    '21067-10-18': torch.Size([64, 144, 256]),\n",
    "    '22846-10-16': torch.Size([64, 144, 256])\n",
    "}\n",
    "\n",
    "n_neurons_dict = {'21067-10-18': 8372, '22846-10-16': 7344}"
   ]
  },
  {
   "cell_type": "code",
   "execution_count": 9,
   "id": "26114e78-06a1-48e2-aba3-1cc25129f6b7",
   "metadata": {},
   "outputs": [],
   "source": [
    "factorized_readout = MultiReadoutBase(\n",
    "    in_shape_dict=in_shapes_dict,\n",
    "    n_neurons_dict=n_neurons_dict,\n",
    "    base_readout=FullFactorized2d,\n",
    "    bias=True,\n",
    ")"
   ]
  },
  {
   "cell_type": "markdown",
   "id": "ebf10e4e-d1fe-4262-9dbb-ae9fa45927e5",
   "metadata": {},
   "source": [
    "## 4. Invoke core and readout"
   ]
  },
  {
   "cell_type": "code",
   "execution_count": 10,
   "id": "4c73f0a3-7a1e-446e-bbf6-53154a8aa6cb",
   "metadata": {},
   "outputs": [
    {
     "ename": "NameError",
     "evalue": "name 'core' is not defined",
     "output_type": "error",
     "traceback": [
      "\u001b[31m---------------------------------------------------------------------------\u001b[39m",
      "\u001b[31mNameError\u001b[39m                                 Traceback (most recent call last)",
      "\u001b[36mCell\u001b[39m\u001b[36m \u001b[39m\u001b[32mIn[10]\u001b[39m\u001b[32m, line 1\u001b[39m\n\u001b[32m----> \u001b[39m\u001b[32m1\u001b[39m core_output = \u001b[43mcore\u001b[49m(example_batch.images)\n\u001b[32m      2\u001b[39m readout_output_sample = factorized_readout(core_output, data_key=\u001b[33m\"\u001b[39m\u001b[33m21067-10-18\u001b[39m\u001b[33m\"\u001b[39m)\n",
      "\u001b[31mNameError\u001b[39m: name 'core' is not defined"
     ]
    }
   ],
   "source": [
    "core_output = stacked2d_core(example_batch.images)\n",
    "readout_output_sample = factorized_readout(core_output, data_key=\"21067-10-18\")"
   ]
  },
  {
   "cell_type": "code",
   "execution_count": null,
   "id": "86c3ccf7-8ffa-41a9-bc22-938cdab9157b",
   "metadata": {},
   "outputs": [],
   "source": []
  }
 ],
 "metadata": {
  "kernelspec": {
   "display_name": "Python 3 (ipykernel)",
   "language": "python",
   "name": "python3"
  },
  "language_info": {
   "codemirror_mode": {
    "name": "ipython",
    "version": 3
   },
   "file_extension": ".py",
   "mimetype": "text/x-python",
   "name": "python",
   "nbconvert_exporter": "python",
   "pygments_lexer": "ipython3",
   "version": "3.13.5"
  }
 },
 "nbformat": 4,
 "nbformat_minor": 5
}

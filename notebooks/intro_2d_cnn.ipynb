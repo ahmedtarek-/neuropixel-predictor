{
 "cells": [
  {
   "cell_type": "markdown",
   "id": "6b889cce-9a9c-4f0e-ae7a-6fc78d4de234",
   "metadata": {},
   "source": [
    "# Intro to 2D CNNs\n",
    "A description and demo notebook to go through creating a 2D CNN and using it with dummy data"
   ]
  },
  {
   "cell_type": "markdown",
   "id": "2da4050b-51cb-4c76-bf6e-f75751e9a022",
   "metadata": {},
   "source": [
    "## 1. Setting up dummy data\n",
    "\n",
    "Before learning how to use the cores, let's create a dummy data images. This data will be similar to a batch of images.\n",
    "\n",
    "Throughout the notebook we will refer to the elements of this shape in the following manner:\n",
    "\n",
    "[1] is the number of channels (can be input, hidden, output)\n",
    "\n",
    "[144] is the height of image or feature maps\n",
    "\n",
    "[256] is the height of image or feature maps\n",
    "\n",
    "[32] is the batch size, which is not as relevant for understanding the material in this notebook."
   ]
  },
  {
   "cell_type": "code",
   "execution_count": 1,
   "id": "077285e7-7c00-45dd-88ab-211227cc70b6",
   "metadata": {},
   "outputs": [],
   "source": [
    "# To access to neuropixel_predictor\n",
    "import sys\n",
    "import os\n",
    "sys.path.append('../')\n",
    "\n",
    "# Basic imports\n",
    "import warnings\n",
    "import random\n",
    "\n",
    "# Essential imports\n",
    "import numpy as np\n",
    "import torch"
   ]
  },
  {
   "cell_type": "code",
   "execution_count": 2,
   "id": "b28f1868-fe4e-4a83-84ce-54cfeebf8e45",
   "metadata": {},
   "outputs": [],
   "source": [
    "warnings.filterwarnings(\"ignore\", category=UserWarning)\n",
    "device = \"cuda\" if torch.cuda.is_available() else \"cpu\"\n",
    "random_seed = 42"
   ]
  },
  {
   "cell_type": "markdown",
   "id": "be5678f9-420f-4ba6-96e9-de59d90cba89",
   "metadata": {},
   "source": [
    "## 2. Setting Up the data"
   ]
  },
  {
   "cell_type": "code",
   "execution_count": 3,
   "id": "bf6d0b25-61b0-4717-a438-3ab0d31b0829",
   "metadata": {},
   "outputs": [],
   "source": [
    "images = torch.ones(32, 1, 150, 200)"
   ]
  },
  {
   "cell_type": "markdown",
   "id": "ad610cc7-9b36-4ca0-98ce-304b8ffaa9e2",
   "metadata": {},
   "source": [
    "## 3. Using Stacked 2D Core"
   ]
  },
  {
   "cell_type": "code",
   "execution_count": 4,
   "id": "b2d68595-ff46-4a81-934f-518654dc0aaf",
   "metadata": {},
   "outputs": [],
   "source": [
    "stacked2dcore_config = {\n",
    "    # core args\n",
    "    'input_channels': 1,\n",
    "    'input_kern': 7,\n",
    "    'hidden_kern': 5,\n",
    "    'hidden_channels': 64,\n",
    "    'layers': 3,\n",
    "    'stack': -1,\n",
    "    'pad_input': True,\n",
    "    'gamma_input': 6.3831\n",
    "}"
   ]
  },
  {
   "cell_type": "code",
   "execution_count": 5,
   "id": "da978a4b-7f97-4bea-a61d-c11c7a11a7ba",
   "metadata": {},
   "outputs": [
    {
     "data": {
      "text/plain": [
       "Stacked2dCore(\n",
       "  (_input_weights_regularizer): LaplaceL2(\n",
       "    (laplace): Laplace()\n",
       "  )\n",
       "  (features): Sequential(\n",
       "    (layer0): Sequential(\n",
       "      (conv): Conv2d(1, 64, kernel_size=(7, 7), stride=(1, 1), padding=(3, 3), bias=False)\n",
       "      (norm): BatchNorm2d(64, eps=1e-05, momentum=0.1, affine=True, track_running_stats=True)\n",
       "      (nonlin): AdaptiveELU()\n",
       "    )\n",
       "    (layer1): Sequential(\n",
       "      (conv): Conv2d(64, 64, kernel_size=(5, 5), stride=(1, 1), padding=(2, 2))\n",
       "      (norm): BatchNorm2d(64, eps=1e-05, momentum=0.1, affine=True, track_running_stats=True)\n",
       "      (nonlin): AdaptiveELU()\n",
       "    )\n",
       "    (layer2): Sequential(\n",
       "      (conv): Conv2d(64, 64, kernel_size=(5, 5), stride=(1, 1), padding=(2, 2))\n",
       "      (norm): BatchNorm2d(64, eps=1e-05, momentum=0.1, affine=True, track_running_stats=True)\n",
       "      (nonlin): AdaptiveELU()\n",
       "    )\n",
       "  )\n",
       ") [Stacked2dCore regularizers: gamma_hidden = 0|gamma_input = 6.3831|skip = 0]"
      ]
     },
     "execution_count": 5,
     "metadata": {},
     "output_type": "execute_result"
    }
   ],
   "source": [
    "# from neuralpredictors.layers.cores import Stacked2dCore\n",
    "# from neuralpredictors.utils import get_module_output\n",
    "\n",
    "# core = Stacked2dCore(input_channels=1,\n",
    "#                      hidden_channels=64,\n",
    "#                      input_kern=9,\n",
    "#                      hidden_kern=7)\n",
    "\n",
    "# in_shape_dict = {k: get_module_output(core, in_shape)[1:] for k, in_shape in in_shapes_dict.items()}\n",
    "\n",
    "\n",
    "\n",
    "from neuropixel_predictor.layers.cores import Stacked2dCore \n",
    "\n",
    "stacked2d_core = Stacked2dCore(**stacked2dcore_config)\n",
    "stacked2d_core"
   ]
  },
  {
   "cell_type": "code",
   "execution_count": 6,
   "id": "ee9f0526-0ebe-4861-bc70-1d14b39edec6",
   "metadata": {},
   "outputs": [
    {
     "name": "stdout",
     "output_type": "stream",
     "text": [
      "torch.Size([32, 64, 150, 200])\n"
     ]
    }
   ],
   "source": [
    "# Trying out on images\n",
    "stacked2dcore_out = stacked2d_core(images)\n",
    "print(stacked2dcore_out.shape)"
   ]
  },
  {
   "cell_type": "markdown",
   "id": "0a93e3ac-1401-41ed-9eba-27b89f8f91d7",
   "metadata": {},
   "source": [
    "## 3. Using Readout to attach Factorized Readout"
   ]
  },
  {
   "cell_type": "code",
   "execution_count": 7,
   "id": "14a60bd1-b277-4d17-95be-c8b72bd7710b",
   "metadata": {},
   "outputs": [],
   "source": [
    "from neuropixel_predictor.layers.readouts import FullFactorized2d, MultiReadoutBase"
   ]
  },
  {
   "cell_type": "code",
   "execution_count": 8,
   "id": "854dc186-61d2-4c19-a4ad-69ff8e90706b",
   "metadata": {},
   "outputs": [],
   "source": [
    "in_shapes_dict = {\n",
    "    '2023-03-15_11-05-00': torch.Size([64, 150, 200]),\n",
    "    # '2023-03-15_15-23': torch.Size([64, 150, 200])\n",
    "}\n",
    "\n",
    "n_neurons_dict = {\n",
    "    '2023-03-15_11-05-00': 453,\n",
    "    # '2023-03-15_15-23': 200\n",
    "}"
   ]
  },
  {
   "cell_type": "code",
   "execution_count": 9,
   "id": "26114e78-06a1-48e2-aba3-1cc25129f6b7",
   "metadata": {},
   "outputs": [],
   "source": [
    "factorized_readout = MultiReadoutBase(\n",
    "    in_shape_dict=in_shapes_dict,\n",
    "    n_neurons_dict=n_neurons_dict,\n",
    "    base_readout=FullFactorized2d,\n",
    "    bias=True,\n",
    ")"
   ]
  },
  {
   "cell_type": "markdown",
   "id": "ebf10e4e-d1fe-4262-9dbb-ae9fa45927e5",
   "metadata": {},
   "source": [
    "## 4. Invoke core and readout (dummy data)"
   ]
  },
  {
   "cell_type": "code",
   "execution_count": 10,
   "id": "4c73f0a3-7a1e-446e-bbf6-53154a8aa6cb",
   "metadata": {},
   "outputs": [
    {
     "data": {
      "text/plain": [
       "tensor([[-0.0003,  0.0014,  0.0016,  ...,  0.0109, -0.0153, -0.0035],\n",
       "        [-0.0003,  0.0014,  0.0016,  ...,  0.0109, -0.0153, -0.0035],\n",
       "        [-0.0003,  0.0014,  0.0016,  ...,  0.0109, -0.0153, -0.0035],\n",
       "        ...,\n",
       "        [-0.0003,  0.0014,  0.0016,  ...,  0.0109, -0.0153, -0.0035],\n",
       "        [-0.0003,  0.0014,  0.0016,  ...,  0.0109, -0.0153, -0.0035],\n",
       "        [-0.0003,  0.0014,  0.0016,  ...,  0.0109, -0.0153, -0.0035]],\n",
       "       grad_fn=<AddBackward0>)"
      ]
     },
     "execution_count": 10,
     "metadata": {},
     "output_type": "execute_result"
    }
   ],
   "source": [
    "# Forward pass with core\n",
    "core_output = stacked2d_core(images)\n",
    "\n",
    "# Forward pass with readout\n",
    "readout_output_sample = factorized_readout(core_output, data_key=\"2023-03-15_11-05-00\")\n",
    "\n",
    "readout_output_sample"
   ]
  },
  {
   "cell_type": "markdown",
   "id": "1fc14eb7-c83c-4ad3-a8f3-4cdfe3942811",
   "metadata": {},
   "source": [
    "## 5. Testing with test data (from sinzlab)\n",
    "Utility functions from https://github.com/sinzlab/sensorium"
   ]
  },
  {
   "cell_type": "code",
   "execution_count": 11,
   "id": "88a9935b-2fad-417a-a273-8cb7f318a920",
   "metadata": {},
   "outputs": [],
   "source": [
    "# %%capture \n",
    "# !pip install git+https://github.com/sinzlab/sensorium.git"
   ]
  },
  {
   "cell_type": "markdown",
   "id": "74ffda84-6077-4dd5-b28c-feefe57816da",
   "metadata": {},
   "source": [
    "**Defining some helper functions to extract the data**"
   ]
  },
  {
   "cell_type": "code",
   "execution_count": 12,
   "id": "e5551a2c-7c15-4aee-80ed-59207a6bbdf1",
   "metadata": {},
   "outputs": [],
   "source": [
    "# # The following are minimal adaptations of three utility functions found in nnfabrik that we need to initialise\n",
    "# # the core and readouts later on.\n",
    "\n",
    "# def get_data(dataset_fn, dataset_config):\n",
    "#     \"\"\"\n",
    "#     See https://github.com/sinzlab/nnfabrik/blob/5b6e7379cb5724a787cdd482ee987b8bc0dfacf3/nnfabrik/builder.py#L87\n",
    "#     for the original implementation and documentation if you are interested.\n",
    "#     \"\"\"\n",
    "#     return dataset_fn(**dataset_config)\n",
    "\n",
    "# def get_dims_for_loader_dict(dataloaders):\n",
    "#     \"\"\"\n",
    "#     See https://github.com/sinzlab/nnfabrik/blob/5b6e7379cb5724a787cdd482ee987b8bc0dfacf3/nnfabrik/utility/nn_helpers.py#L39\n",
    "#     for the original implementation and docstring if you are interested.\n",
    "#     \"\"\"\n",
    "    \n",
    "#     def get_io_dims(data_loader):\n",
    "#         items = next(iter(data_loader))\n",
    "#         if hasattr(items, \"_asdict\"):  # if it's a named tuple\n",
    "#             items = items._asdict()\n",
    "\n",
    "#         if hasattr(items, \"items\"):  # if dict like\n",
    "#             return {k: v.shape for k, v in items.items()}\n",
    "#         else:\n",
    "#             return (v.shape for v in items)\n",
    "\n",
    "#     return {k: get_io_dims(v) for k, v in dataloaders.items()}\n",
    "\n",
    "\n",
    "# def set_random_seed(seed: int, deterministic: bool = True):\n",
    "#     \"\"\"\n",
    "#     See https://github.com/sinzlab/nnfabrik/blob/5b6e7379cb5724a787cdd482ee987b8bc0dfacf3/nnfabrik/utility/nn_helpers.py#L53\n",
    "#     for the original implementation and docstring if you are intereseted.\n",
    "#     \"\"\"\n",
    "#     random.seed(seed)\n",
    "#     np.random.seed(seed)\n",
    "#     if deterministic:\n",
    "#         torch.backends.cudnn.benchmark = False\n",
    "#         torch.backends.cudnn.deterministic = True\n",
    "#     torch.manual_seed(seed)  # this sets both CPU and CUDA seeds for PyTorch"
   ]
  },
  {
   "cell_type": "markdown",
   "id": "253455a2-05cb-493e-984c-2808d2370c0a",
   "metadata": {},
   "source": [
    "**Loading the data**"
   ]
  },
  {
   "cell_type": "code",
   "execution_count": 13,
   "id": "6fc15252-076c-4863-8fa6-e1023043b7d1",
   "metadata": {},
   "outputs": [],
   "source": [
    "# ## Load the data: you can modify this if you have stored it in another location\n",
    "# from sensorium.datasets import static_loaders\n",
    "\n",
    "# DATA_PATH = '/Users/tarek/Documents/UNI/Lab Rotations/Kremkow/Data/Test/'\n",
    "\n",
    "# filenames = [\n",
    "#     DATA_PATH + 'static21067-10-18-GrayImageNet-94c6ff995dac583098847cfecd43e7b6.zip', \n",
    "#     DATA_PATH + 'static22846-10-16-GrayImageNet-94c6ff995dac583098847cfecd43e7b6.zip'\n",
    "#     ]\n",
    "\n",
    "# dataset_config = {'paths': filenames,\n",
    "#                  'normalize': True,\n",
    "#                  'include_behavior': False,\n",
    "#                  'include_eye_position': True,\n",
    "#                  'batch_size': 32,\n",
    "#                  'scale':1,\n",
    "#                  'cuda': True if device == 'cuda' else False,\n",
    "#                  }\n",
    "\n",
    "# dataloaders = get_data(dataset_fn=static_loaders, dataset_config=dataset_config)"
   ]
  },
  {
   "cell_type": "code",
   "execution_count": 14,
   "id": "c98c0861-2c7d-4787-aa22-7944f6e39c6d",
   "metadata": {},
   "outputs": [
    {
     "data": {
      "text/plain": [
       "(torch.Size([32, 1, 144, 256]), torch.Size([32, 8372]))"
      ]
     },
     "execution_count": 14,
     "metadata": {},
     "output_type": "execute_result"
    }
   ],
   "source": [
    "# datapoint = list(dataloaders['train']['21067-10-18'])[0]\n",
    "# images = datapoint[0]\n",
    "# responses = datapoint[1]\n",
    "# images.shape, responses.shape"
   ]
  },
  {
   "cell_type": "markdown",
   "id": "76473501-e971-4c93-9dcb-32b9a8c705ff",
   "metadata": {},
   "source": [
    "**Process the data step by step**"
   ]
  },
  {
   "cell_type": "code",
   "execution_count": 15,
   "id": "19597b22-a9f4-426b-aab6-ee550b51cab4",
   "metadata": {},
   "outputs": [],
   "source": [
    "# # We only need the train dataloaders to extract the session keys (could also use test or validation for this)\n",
    "# train_dataloaders = dataloaders[\"train\"]\n",
    "\n",
    "# # Obtain the named tuple fields from the first entry of the first dataloader in the dictionary\n",
    "# example_batch = next(iter(list(train_dataloaders.values())[0]))\n",
    "# in_name, out_name = (\n",
    "#     list(example_batch.keys())[:2] if isinstance(example_batch, dict) else example_batch._fields[:2]\n",
    "# )\n",
    "\n",
    "# session_shape_dict = get_dims_for_loader_dict(train_dataloaders)\n",
    "# input_channels = [v[in_name][1] for v in session_shape_dict.values()]\n",
    "\n",
    "# core_input_channels = (\n",
    "#     list(input_channels.values())[0]\n",
    "#     if isinstance(input_channels, dict)\n",
    "#     else input_channels[0]\n",
    "# )"
   ]
  },
  {
   "cell_type": "markdown",
   "id": "e78ce402-f0f1-44a8-8b5e-3dd2e003bd4e",
   "metadata": {},
   "source": [
    "**Core: Define Config Params**"
   ]
  },
  {
   "cell_type": "code",
   "execution_count": 16,
   "id": "3c61c95c-ac8a-4b66-9f5b-6cc6893ab209",
   "metadata": {},
   "outputs": [],
   "source": [
    "# stacked2dcore_config = {\n",
    "#     # core args\n",
    "#     'input_kern': 7,\n",
    "#     'hidden_kern': 5,\n",
    "#     'hidden_channels': 64,\n",
    "#     'layers': 3,\n",
    "#     'stack': -1,\n",
    "#     'pad_input': True,\n",
    "#     'gamma_input': 6.3831\n",
    "# }"
   ]
  },
  {
   "cell_type": "markdown",
   "id": "b23cab6a-8fb5-4329-a925-bdf47e4fa29c",
   "metadata": {},
   "source": [
    "**Core: Setting up**"
   ]
  },
  {
   "cell_type": "code",
   "execution_count": 17,
   "id": "557086e7-7d39-47c1-b6a3-0d1d418fd69a",
   "metadata": {},
   "outputs": [
    {
     "data": {
      "text/plain": [
       "Stacked2dCore(\n",
       "  (_input_weights_regularizer): LaplaceL2(\n",
       "    (laplace): Laplace()\n",
       "  )\n",
       "  (features): Sequential(\n",
       "    (layer0): Sequential(\n",
       "      (conv): Conv2d(1, 64, kernel_size=(7, 7), stride=(1, 1), padding=(3, 3), bias=False)\n",
       "      (norm): BatchNorm2d(64, eps=1e-05, momentum=0.1, affine=True, track_running_stats=True)\n",
       "      (nonlin): AdaptiveELU()\n",
       "    )\n",
       "    (layer1): Sequential(\n",
       "      (conv): Conv2d(64, 64, kernel_size=(5, 5), stride=(1, 1), padding=(2, 2))\n",
       "      (norm): BatchNorm2d(64, eps=1e-05, momentum=0.1, affine=True, track_running_stats=True)\n",
       "      (nonlin): AdaptiveELU()\n",
       "    )\n",
       "    (layer2): Sequential(\n",
       "      (conv): Conv2d(64, 64, kernel_size=(5, 5), stride=(1, 1), padding=(2, 2))\n",
       "      (norm): BatchNorm2d(64, eps=1e-05, momentum=0.1, affine=True, track_running_stats=True)\n",
       "      (nonlin): AdaptiveELU()\n",
       "    )\n",
       "  )\n",
       ") [Stacked2dCore regularizers: gamma_hidden = 0|gamma_input = 6.3831|skip = 0]"
      ]
     },
     "execution_count": 17,
     "metadata": {},
     "output_type": "execute_result"
    }
   ],
   "source": [
    "# set_random_seed(random_seed)\n",
    "# core = Stacked2dCore(\n",
    "#     input_channels=core_input_channels,\n",
    "#     **stacked2dcore_config,\n",
    "# )\n",
    "# core"
   ]
  },
  {
   "cell_type": "markdown",
   "id": "035e401b-6a3b-42fe-85ad-d9c9e5654265",
   "metadata": {},
   "source": [
    "**Core: Example forward pass**"
   ]
  },
  {
   "cell_type": "code",
   "execution_count": 18,
   "id": "58787eff-869a-44c6-9b9b-fff036dfbe24",
   "metadata": {},
   "outputs": [
    {
     "name": "stdout",
     "output_type": "stream",
     "text": [
      "Sample batch shape: torch.Size([32, 1, 144, 256]) (batch size, in_channels, in_height, in_width)\n",
      "Core output shape: torch.Size([32, 64, 144, 256]) (batch_size, out_channels, out_height, out_width)\n"
     ]
    }
   ],
   "source": [
    "# print(f\"Sample batch shape: {example_batch.images.shape} (batch size, in_channels, in_height, in_width)\")\n",
    "\n",
    "# with torch.no_grad():\n",
    "#     core_output = core(example_batch.images)\n",
    "    \n",
    "# print(f\"Core output shape: {core_output.shape} (batch_size, out_channels, out_height, out_width)\")\n"
   ]
  },
  {
   "cell_type": "markdown",
   "id": "57e86238-498b-4da7-83d9-8c9429392eef",
   "metadata": {},
   "source": [
    "**Readout: Test the factorized**"
   ]
  },
  {
   "cell_type": "code",
   "execution_count": 19,
   "id": "f3382f69-d56c-4b34-b504-2507019457fb",
   "metadata": {},
   "outputs": [
    {
     "ename": "KeyError",
     "evalue": "'21067-10-18'",
     "output_type": "error",
     "traceback": [
      "\u001b[31m---------------------------------------------------------------------------\u001b[39m",
      "\u001b[31mKeyError\u001b[39m                                  Traceback (most recent call last)",
      "\u001b[36mCell\u001b[39m\u001b[36m \u001b[39m\u001b[32mIn[19]\u001b[39m\u001b[32m, line 2\u001b[39m\n\u001b[32m      1\u001b[39m \u001b[38;5;28;01mwith\u001b[39;00m torch.no_grad():\n\u001b[32m----> \u001b[39m\u001b[32m2\u001b[39m     readout_output_sample = \u001b[43mfactorized_readout\u001b[49m\u001b[43m(\u001b[49m\u001b[43mcore_output\u001b[49m\u001b[43m,\u001b[49m\u001b[43m \u001b[49m\u001b[43mdata_key\u001b[49m\u001b[43m=\u001b[49m\u001b[33;43m\"\u001b[39;49m\u001b[33;43m21067-10-18\u001b[39;49m\u001b[33;43m\"\u001b[39;49m\u001b[43m)\u001b[49m\n\u001b[32m      5\u001b[39m \u001b[38;5;28mprint\u001b[39m(\u001b[33mf\u001b[39m\u001b[33m\"\u001b[39m\u001b[33mReadout output shape: \u001b[39m\u001b[38;5;132;01m{\u001b[39;00mreadout_output_sample.shape\u001b[38;5;132;01m}\u001b[39;00m\u001b[33m (batch_size, n_neurons)\u001b[39m\u001b[33m\"\u001b[39m)\n",
      "\u001b[36mFile \u001b[39m\u001b[32m~/miniconda3/envs/np-predictor/lib/python3.13/site-packages/torch/nn/modules/module.py:1751\u001b[39m, in \u001b[36mModule._wrapped_call_impl\u001b[39m\u001b[34m(self, *args, **kwargs)\u001b[39m\n\u001b[32m   1749\u001b[39m     \u001b[38;5;28;01mreturn\u001b[39;00m \u001b[38;5;28mself\u001b[39m._compiled_call_impl(*args, **kwargs)  \u001b[38;5;66;03m# type: ignore[misc]\u001b[39;00m\n\u001b[32m   1750\u001b[39m \u001b[38;5;28;01melse\u001b[39;00m:\n\u001b[32m-> \u001b[39m\u001b[32m1751\u001b[39m     \u001b[38;5;28;01mreturn\u001b[39;00m \u001b[38;5;28;43mself\u001b[39;49m\u001b[43m.\u001b[49m\u001b[43m_call_impl\u001b[49m\u001b[43m(\u001b[49m\u001b[43m*\u001b[49m\u001b[43margs\u001b[49m\u001b[43m,\u001b[49m\u001b[43m \u001b[49m\u001b[43m*\u001b[49m\u001b[43m*\u001b[49m\u001b[43mkwargs\u001b[49m\u001b[43m)\u001b[49m\n",
      "\u001b[36mFile \u001b[39m\u001b[32m~/miniconda3/envs/np-predictor/lib/python3.13/site-packages/torch/nn/modules/module.py:1762\u001b[39m, in \u001b[36mModule._call_impl\u001b[39m\u001b[34m(self, *args, **kwargs)\u001b[39m\n\u001b[32m   1757\u001b[39m \u001b[38;5;66;03m# If we don't have any hooks, we want to skip the rest of the logic in\u001b[39;00m\n\u001b[32m   1758\u001b[39m \u001b[38;5;66;03m# this function, and just call forward.\u001b[39;00m\n\u001b[32m   1759\u001b[39m \u001b[38;5;28;01mif\u001b[39;00m \u001b[38;5;129;01mnot\u001b[39;00m (\u001b[38;5;28mself\u001b[39m._backward_hooks \u001b[38;5;129;01mor\u001b[39;00m \u001b[38;5;28mself\u001b[39m._backward_pre_hooks \u001b[38;5;129;01mor\u001b[39;00m \u001b[38;5;28mself\u001b[39m._forward_hooks \u001b[38;5;129;01mor\u001b[39;00m \u001b[38;5;28mself\u001b[39m._forward_pre_hooks\n\u001b[32m   1760\u001b[39m         \u001b[38;5;129;01mor\u001b[39;00m _global_backward_pre_hooks \u001b[38;5;129;01mor\u001b[39;00m _global_backward_hooks\n\u001b[32m   1761\u001b[39m         \u001b[38;5;129;01mor\u001b[39;00m _global_forward_hooks \u001b[38;5;129;01mor\u001b[39;00m _global_forward_pre_hooks):\n\u001b[32m-> \u001b[39m\u001b[32m1762\u001b[39m     \u001b[38;5;28;01mreturn\u001b[39;00m \u001b[43mforward_call\u001b[49m\u001b[43m(\u001b[49m\u001b[43m*\u001b[49m\u001b[43margs\u001b[49m\u001b[43m,\u001b[49m\u001b[43m \u001b[49m\u001b[43m*\u001b[49m\u001b[43m*\u001b[49m\u001b[43mkwargs\u001b[49m\u001b[43m)\u001b[49m\n\u001b[32m   1764\u001b[39m result = \u001b[38;5;28;01mNone\u001b[39;00m\n\u001b[32m   1765\u001b[39m called_always_called_hooks = \u001b[38;5;28mset\u001b[39m()\n",
      "\u001b[36mFile \u001b[39m\u001b[32m~/Documents/Repos/neuropixel-predictor/notebooks/../neuropixel_predictor/layers/readouts/multi_readout.py:70\u001b[39m, in \u001b[36mMultiReadoutBase.forward\u001b[39m\u001b[34m(self, data_key, *args, **kwargs)\u001b[39m\n\u001b[32m     68\u001b[39m \u001b[38;5;28;01mif\u001b[39;00m data_key \u001b[38;5;129;01mis\u001b[39;00m \u001b[38;5;28;01mNone\u001b[39;00m \u001b[38;5;129;01mand\u001b[39;00m \u001b[38;5;28mlen\u001b[39m(\u001b[38;5;28mself\u001b[39m) == \u001b[32m1\u001b[39m:\n\u001b[32m     69\u001b[39m     data_key = \u001b[38;5;28mlist\u001b[39m(\u001b[38;5;28mself\u001b[39m.keys())[\u001b[32m0\u001b[39m]\n\u001b[32m---> \u001b[39m\u001b[32m70\u001b[39m \u001b[38;5;28;01mreturn\u001b[39;00m \u001b[38;5;28;43mself\u001b[39;49m\u001b[43m[\u001b[49m\u001b[43mdata_key\u001b[49m\u001b[43m]\u001b[49m(*args, **kwargs)\n",
      "\u001b[36mFile \u001b[39m\u001b[32m~/miniconda3/envs/np-predictor/lib/python3.13/site-packages/torch/nn/modules/container.py:492\u001b[39m, in \u001b[36mModuleDict.__getitem__\u001b[39m\u001b[34m(self, key)\u001b[39m\n\u001b[32m    490\u001b[39m \u001b[38;5;129m@_copy_to_script_wrapper\u001b[39m\n\u001b[32m    491\u001b[39m \u001b[38;5;28;01mdef\u001b[39;00m\u001b[38;5;250m \u001b[39m\u001b[34m__getitem__\u001b[39m(\u001b[38;5;28mself\u001b[39m, key: \u001b[38;5;28mstr\u001b[39m) -> Module:\n\u001b[32m--> \u001b[39m\u001b[32m492\u001b[39m     \u001b[38;5;28;01mreturn\u001b[39;00m \u001b[38;5;28;43mself\u001b[39;49m\u001b[43m.\u001b[49m\u001b[43m_modules\u001b[49m\u001b[43m[\u001b[49m\u001b[43mkey\u001b[49m\u001b[43m]\u001b[49m\n",
      "\u001b[31mKeyError\u001b[39m: '21067-10-18'"
     ]
    }
   ],
   "source": [
    "# with torch.no_grad():\n",
    "#     readout_output_sample = factorized_readout(core_output, data_key=\"21067-10-18\")\n",
    "\n",
    "\n",
    "# print(f\"Readout output shape: {readout_output_sample.shape} (batch_size, n_neurons)\")"
   ]
  },
  {
   "cell_type": "markdown",
   "id": "e0f72f8f-ec53-444c-89d1-e449825864f8",
   "metadata": {},
   "source": [
    "--------------\n",
    "--------------\n",
    "--------------\n",
    "## 6. Testing with our data"
   ]
  },
  {
   "cell_type": "code",
   "execution_count": 20,
   "id": "2766ddc0-7127-42f3-8e5a-0ffc39314702",
   "metadata": {},
   "outputs": [
    {
     "data": {
      "text/plain": [
       "(torch.Size([16, 1, 150, 200]),\n",
       " torch.Size([16, 453]),\n",
       " 'torch.FloatTensor',\n",
       " 'torch.FloatTensor')"
      ]
     },
     "execution_count": 20,
     "metadata": {},
     "output_type": "execute_result"
    }
   ],
   "source": [
    "from torch.utils.data import DataLoader\n",
    "\n",
    "TRAINING_DATA_DIR = '/Users/tarek/Documents/UNI/Lab Rotations/Kremkow/Data/Training'\n",
    "\n",
    "# 1. Load the images and responses\n",
    "images = np.load(os.path.join(TRAINING_DATA_DIR, '1_stimulus_cb_200.npy')).reshape(199, 1, 150, 200)\n",
    "responses = np.load(os.path.join(TRAINING_DATA_DIR, '1_fr_cb_200.npy'))\n",
    "\n",
    "# 2. Convert to tensors and typecast to float\n",
    "images = torch.from_numpy(images).float()\n",
    "responses = torch.from_numpy(responses).float()\n",
    "\n",
    "# 3. Zip training data together\n",
    "training_data = list(zip(images, responses))\n",
    "train_dataloader = DataLoader(training_data, batch_size=16, shuffle=True)\n",
    "\n",
    "# 4. Load sample batch\n",
    "images_batch, responses_batch = next(iter(train_dataloader))\n",
    "\n",
    "# 5. Validate shape and types\n",
    "images_batch.shape, responses_batch.shape, images_batch.type(), responses_batch.type()"
   ]
  },
  {
   "cell_type": "markdown",
   "id": "7caa62e1-41d4-4f4c-9388-d3fc912dd912",
   "metadata": {},
   "source": [
    "**Core: Define Config Params**"
   ]
  },
  {
   "cell_type": "code",
   "execution_count": 21,
   "id": "76afeff5-1890-4eb4-97fa-d6f3b72721ab",
   "metadata": {},
   "outputs": [],
   "source": [
    "stacked2dcore_config = {\n",
    "    # core args\n",
    "    'input_channels': 1,\n",
    "    'input_kern': 7,\n",
    "    'hidden_kern': 5,\n",
    "    'hidden_channels': 64,\n",
    "    'layers': 3,\n",
    "    'stack': -1,\n",
    "    'pad_input': True,\n",
    "    # 'gamma_input': 6.3831\n",
    "}"
   ]
  },
  {
   "cell_type": "markdown",
   "id": "a0f44ca4-e39c-4d7d-8508-d2c81ee244bd",
   "metadata": {},
   "source": [
    "**Core: Setting up**"
   ]
  },
  {
   "cell_type": "code",
   "execution_count": 22,
   "id": "f4bbe197-2e22-49e5-b0ec-f573ea80b751",
   "metadata": {},
   "outputs": [
    {
     "data": {
      "text/plain": [
       "Stacked2dCore(\n",
       "  (_input_weights_regularizer): LaplaceL2(\n",
       "    (laplace): Laplace()\n",
       "  )\n",
       "  (features): Sequential(\n",
       "    (layer0): Sequential(\n",
       "      (conv): Conv2d(1, 64, kernel_size=(7, 7), stride=(1, 1), padding=(3, 3), bias=False)\n",
       "      (norm): BatchNorm2d(64, eps=1e-05, momentum=0.1, affine=True, track_running_stats=True)\n",
       "      (nonlin): AdaptiveELU()\n",
       "    )\n",
       "    (layer1): Sequential(\n",
       "      (conv): Conv2d(64, 64, kernel_size=(5, 5), stride=(1, 1), padding=(2, 2))\n",
       "      (norm): BatchNorm2d(64, eps=1e-05, momentum=0.1, affine=True, track_running_stats=True)\n",
       "      (nonlin): AdaptiveELU()\n",
       "    )\n",
       "    (layer2): Sequential(\n",
       "      (conv): Conv2d(64, 64, kernel_size=(5, 5), stride=(1, 1), padding=(2, 2))\n",
       "      (norm): BatchNorm2d(64, eps=1e-05, momentum=0.1, affine=True, track_running_stats=True)\n",
       "      (nonlin): AdaptiveELU()\n",
       "    )\n",
       "  )\n",
       ") [Stacked2dCore regularizers: gamma_hidden = 0|gamma_input = 0.0|skip = 0]"
      ]
     },
     "execution_count": 22,
     "metadata": {},
     "output_type": "execute_result"
    }
   ],
   "source": [
    "set_random_seed(random_seed)\n",
    "core = Stacked2dCore(\n",
    "    **stacked2dcore_config,\n",
    ")\n",
    "core"
   ]
  },
  {
   "cell_type": "markdown",
   "id": "bfc4d08f-fba6-46b6-94c8-fffb31ec297f",
   "metadata": {},
   "source": [
    "**Core: Example forward pass**"
   ]
  },
  {
   "cell_type": "code",
   "execution_count": 23,
   "id": "1270a6e1-6b6d-42f2-b7ae-125c715af58f",
   "metadata": {},
   "outputs": [
    {
     "name": "stdout",
     "output_type": "stream",
     "text": [
      "Sample batch shape: torch.Size([16, 1, 150, 200]) (batch size, in_channels, in_height, in_width)\n",
      "Core output shape: torch.Size([16, 64, 150, 200]) (batch_size, out_channels, out_height, out_width)\n"
     ]
    }
   ],
   "source": [
    "print(f\"Sample batch shape: {images_batch.shape} (batch size, in_channels, in_height, in_width)\")\n",
    "\n",
    "with torch.no_grad():\n",
    "    core_output = core(images_batch)\n",
    "    \n",
    "print(f\"Core output shape: {core_output.shape} (batch_size, out_channels, out_height, out_width)\")\n"
   ]
  },
  {
   "cell_type": "markdown",
   "id": "19c6db84-1ea7-4083-9698-6c55fb013393",
   "metadata": {},
   "source": [
    "**Readout: Test the factorized**"
   ]
  },
  {
   "cell_type": "code",
   "execution_count": 24,
   "id": "6af56793-f966-4d93-9630-54429720e2b9",
   "metadata": {},
   "outputs": [
    {
     "name": "stdout",
     "output_type": "stream",
     "text": [
      "Readout output shape: torch.Size([16, 453]) (batch_size, n_neurons)\n"
     ]
    }
   ],
   "source": [
    "with torch.no_grad():\n",
    "    readout_output_sample = factorized_readout(core_output, data_key=\"2023-03-15_11-05-00\")\n",
    "\n",
    "\n",
    "print(f\"Readout output shape: {readout_output_sample.shape} (batch_size, n_neurons)\")"
   ]
  },
  {
   "cell_type": "markdown",
   "id": "9595e31b-4272-4c3b-b677-d3e412c3a1da",
   "metadata": {},
   "source": [
    "-------------\n",
    "## 7. Training the model\n",
    "Adopted similar usage from https://github.com/sinzlab/nnsysident/blob/master/notebooks/tutorial_mouse_models.ipynb"
   ]
  },
  {
   "cell_type": "code",
   "execution_count": 28,
   "id": "d524d665-1341-4b72-9a35-e2ba20157934",
   "metadata": {},
   "outputs": [],
   "source": [
    "from neuropixel_predictor.training.trainers import simplified_trainer\n",
    "from neuropixel_predictor.layers.encoders import GeneralizedEncoderBase"
   ]
  },
  {
   "cell_type": "code",
   "execution_count": 29,
   "id": "92b25038-799a-4a03-a129-167e54f9e7a8",
   "metadata": {},
   "outputs": [],
   "source": [
    "device = 'mps'\n",
    "\n",
    "trainer_config_base = {\"track_training\": True,\n",
    "                       \"device\": device,\n",
    "                       \"detach_core\": False}"
   ]
  },
  {
   "cell_type": "code",
   "execution_count": 30,
   "id": "698ba9f7-f552-4dc9-a48a-1f634216a61c",
   "metadata": {},
   "outputs": [],
   "source": [
    "model = GeneralizedEncoderBase(\n",
    "    core,\n",
    "    factorized_readout\n",
    ")\n",
    "model.loss_fn = \"poisson_loss\""
   ]
  },
  {
   "cell_type": "code",
   "execution_count": 32,
   "id": "e9d6564b-cb42-4548-8aa0-468918b0feca",
   "metadata": {},
   "outputs": [
    {
     "ename": "NameError",
     "evalue": "name 'set_random_seed' is not defined",
     "output_type": "error",
     "traceback": [
      "\u001b[31m---------------------------------------------------------------------------\u001b[39m",
      "\u001b[31mNameError\u001b[39m                                 Traceback (most recent call last)",
      "\u001b[36mCell\u001b[39m\u001b[36m \u001b[39m\u001b[32mIn[32]\u001b[39m\u001b[32m, line 1\u001b[39m\n\u001b[32m----> \u001b[39m\u001b[32m1\u001b[39m trained_model, training_history = \u001b[43msimplified_trainer\u001b[49m\u001b[43m(\u001b[49m\n\u001b[32m      2\u001b[39m \u001b[43m    \u001b[49m\u001b[43mmodel\u001b[49m\u001b[43m=\u001b[49m\u001b[43mmodel\u001b[49m\u001b[43m,\u001b[49m\n\u001b[32m      3\u001b[39m \u001b[43m    \u001b[49m\u001b[43mtrain_loader\u001b[49m\u001b[43m=\u001b[49m\u001b[43mtrain_dataloader\u001b[49m\u001b[43m,\u001b[49m\n\u001b[32m      4\u001b[39m \u001b[43m    \u001b[49m\u001b[43mval_loader\u001b[49m\u001b[43m=\u001b[49m\u001b[43mtrain_dataloader\u001b[49m\u001b[43m,\u001b[49m\n\u001b[32m      5\u001b[39m \u001b[43m    \u001b[49m\u001b[43mloss_fn\u001b[49m\u001b[43m=\u001b[49m\u001b[33;43m'\u001b[39;49m\u001b[33;43mpoisson_loss\u001b[39;49m\u001b[33;43m'\u001b[39;49m\u001b[43m,\u001b[49m\n\u001b[32m      6\u001b[39m \u001b[43m    \u001b[49m\u001b[43mdevice\u001b[49m\u001b[43m=\u001b[49m\u001b[43mdevice\u001b[49m\u001b[43m,\u001b[49m\n\u001b[32m      7\u001b[39m \u001b[43m    \u001b[49m\u001b[43mmax_epochs\u001b[49m\u001b[43m=\u001b[49m\u001b[32;43m10\u001b[39;49m\u001b[43m,\u001b[49m\n\u001b[32m      8\u001b[39m \u001b[43m    \u001b[49m\u001b[43mpatience\u001b[49m\u001b[43m=\u001b[49m\u001b[32;43m10\u001b[39;49m\n\u001b[32m      9\u001b[39m \u001b[43m)\u001b[49m\n",
      "\u001b[36mFile \u001b[39m\u001b[32m~/Documents/Repos/neuropixel-predictor/notebooks/../neuropixel_predictor/training/trainers.py:38\u001b[39m, in \u001b[36msimplified_trainer\u001b[39m\u001b[34m(model, train_loader, val_loader, loss_fn, device, max_epochs, patience, lr)\u001b[39m\n\u001b[32m     36\u001b[39m \u001b[38;5;66;03m# 1. Choose model\u001b[39;00m\n\u001b[32m     37\u001b[39m model.to(torch.device(device))\n\u001b[32m---> \u001b[39m\u001b[32m38\u001b[39m \u001b[43mset_random_seed\u001b[49m(seed)\n\u001b[32m     40\u001b[39m \u001b[38;5;66;03m# 2. Define optimizer that will update the model weights\u001b[39;00m\n\u001b[32m     41\u001b[39m optimizer = torch.optim.Adam(model.parameters(), lr=lr)\n",
      "\u001b[31mNameError\u001b[39m: name 'set_random_seed' is not defined"
     ]
    }
   ],
   "source": [
    "trained_model, training_history = simplified_trainer(\n",
    "    model=model,\n",
    "    train_loader=train_dataloader,\n",
    "    val_loader=train_dataloader,\n",
    "    loss_fn='poisson_loss',\n",
    "    device=device,\n",
    "    max_epochs=10,\n",
    "    patience=10\n",
    ")"
   ]
  },
  {
   "cell_type": "code",
   "execution_count": null,
   "id": "6bd6eb1a-0395-4cb7-a1be-7c3043aea297",
   "metadata": {},
   "outputs": [],
   "source": []
  }
 ],
 "metadata": {
  "kernelspec": {
   "display_name": "Python 3 (ipykernel)",
   "language": "python",
   "name": "python3"
  },
  "language_info": {
   "codemirror_mode": {
    "name": "ipython",
    "version": 3
   },
   "file_extension": ".py",
   "mimetype": "text/x-python",
   "name": "python",
   "nbconvert_exporter": "python",
   "pygments_lexer": "ipython3",
   "version": "3.13.5"
  }
 },
 "nbformat": 4,
 "nbformat_minor": 5
}
